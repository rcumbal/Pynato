{
 "cells": [
  {
   "cell_type": "markdown",
   "id": "42b08bfe",
   "metadata": {},
   "source": [
    "# Data Science"
   ]
  },
  {
   "cell_type": "code",
   "execution_count": null,
   "id": "c3e848af",
   "metadata": {},
   "outputs": [],
   "source": []
  },
  {
   "cell_type": "markdown",
   "id": "55df91c4",
   "metadata": {},
   "source": [
    "# Inicialización"
   ]
  },
  {
   "cell_type": "code",
   "execution_count": 2,
   "id": "410591ce",
   "metadata": {
    "scrolled": true
   },
   "outputs": [
    {
     "data": {
      "text/plain": [
       "array([[[0., 0., 0.],\n",
       "        [0., 0., 0.],\n",
       "        [0., 0., 0.]],\n",
       "\n",
       "       [[0., 0., 0.],\n",
       "        [0., 0., 0.],\n",
       "        [0., 0., 0.]],\n",
       "\n",
       "       [[0., 0., 0.],\n",
       "        [0., 0., 0.],\n",
       "        [0., 0., 0.]]])"
      ]
     },
     "execution_count": 2,
     "metadata": {},
     "output_type": "execute_result"
    }
   ],
   "source": [
    "import numpy as np\n",
    "a = np.zeros((3,3,3))\n",
    "a"
   ]
  },
  {
   "cell_type": "code",
   "execution_count": 6,
   "id": "94578a8f",
   "metadata": {},
   "outputs": [
    {
     "data": {
      "text/plain": [
       "array([[[1, 1, 1, 1],\n",
       "        [1, 1, 1, 1]],\n",
       "\n",
       "       [[1, 1, 1, 1],\n",
       "        [1, 1, 1, 1]],\n",
       "\n",
       "       [[1, 1, 1, 1],\n",
       "        [1, 1, 1, 1]]])"
      ]
     },
     "execution_count": 6,
     "metadata": {},
     "output_type": "execute_result"
    }
   ],
   "source": [
    "np.ones((3,2,4), dtype=int)\n"
   ]
  },
  {
   "cell_type": "code",
   "execution_count": 9,
   "id": "03dfa501",
   "metadata": {},
   "outputs": [
    {
     "data": {
      "text/plain": [
       "array([['helloNa', 'helloNa'],\n",
       "       ['helloNa', 'helloNa']], dtype='<U7')"
      ]
     },
     "execution_count": 9,
     "metadata": {},
     "output_type": "execute_result"
    }
   ],
   "source": [
    "np.full((2,2),\"helloNato\", dtype='<U7')\n"
   ]
  },
  {
   "cell_type": "code",
   "execution_count": 10,
   "id": "15a89e52",
   "metadata": {},
   "outputs": [
    {
     "data": {
      "text/plain": [
       "array([0.11228463, 0.85025834, 0.14372556, 0.73668352, 0.22246307,\n",
       "       0.20177648, 0.96875834, 0.28065315, 0.84754523, 0.1919223 ])"
      ]
     },
     "execution_count": 10,
     "metadata": {},
     "output_type": "execute_result"
    }
   ],
   "source": [
    "np.random.rand(10)"
   ]
  },
  {
   "cell_type": "code",
   "execution_count": 12,
   "id": "754ef609",
   "metadata": {},
   "outputs": [
    {
     "data": {
      "text/plain": [
       "array([[7, 8, 7, 9, 9, 8, 6, 7, 7, 8],\n",
       "       [5, 8, 6, 5, 6, 9, 5, 9, 6, 8],\n",
       "       [6, 6, 8, 8, 8, 5, 9, 8, 6, 9],\n",
       "       [6, 6, 7, 8, 5, 7, 5, 7, 6, 8],\n",
       "       [5, 9, 6, 6, 9, 8, 7, 8, 5, 9],\n",
       "       [5, 5, 6, 5, 5, 5, 9, 7, 6, 5],\n",
       "       [8, 6, 5, 7, 8, 5, 9, 9, 7, 8],\n",
       "       [7, 9, 8, 6, 7, 9, 7, 8, 8, 7],\n",
       "       [5, 6, 7, 5, 5, 6, 6, 6, 5, 6],\n",
       "       [6, 6, 9, 7, 6, 7, 6, 5, 9, 5]])"
      ]
     },
     "execution_count": 12,
     "metadata": {},
     "output_type": "execute_result"
    }
   ],
   "source": [
    "data = np.random.randint(5,10,(10,10))\n",
    "data"
   ]
  },
  {
   "cell_type": "markdown",
   "id": "c4555d6f",
   "metadata": {},
   "source": [
    "# Acceso a Numpy"
   ]
  },
  {
   "cell_type": "code",
   "execution_count": 13,
   "id": "31a76865",
   "metadata": {},
   "outputs": [
    {
     "data": {
      "text/plain": [
       "array([[5, 9, 6, 6, 9, 8, 7, 8, 5, 9],\n",
       "       [5, 5, 6, 5, 5, 5, 9, 7, 6, 5],\n",
       "       [8, 6, 5, 7, 8, 5, 9, 9, 7, 8],\n",
       "       [7, 9, 8, 6, 7, 9, 7, 8, 8, 7]])"
      ]
     },
     "execution_count": 13,
     "metadata": {},
     "output_type": "execute_result"
    }
   ],
   "source": [
    "data[4:8]"
   ]
  },
  {
   "cell_type": "code",
   "execution_count": 14,
   "id": "2b644450",
   "metadata": {},
   "outputs": [
    {
     "data": {
      "text/plain": [
       "array([[9, 8],\n",
       "       [5, 5],\n",
       "       [8, 5],\n",
       "       [7, 9]])"
      ]
     },
     "execution_count": 14,
     "metadata": {},
     "output_type": "execute_result"
    }
   ],
   "source": [
    "data[4:8,4:6]"
   ]
  },
  {
   "cell_type": "code",
   "execution_count": 15,
   "id": "0db6f17f",
   "metadata": {},
   "outputs": [
    {
     "data": {
      "text/plain": [
       "array([[9, 8],\n",
       "       [5, 5]])"
      ]
     },
     "execution_count": 15,
     "metadata": {},
     "output_type": "execute_result"
    }
   ],
   "source": [
    "data[4:6,4:6]"
   ]
  },
  {
   "cell_type": "markdown",
   "id": "6f873195",
   "metadata": {},
   "source": [
    "# Combinación de Datos"
   ]
  },
  {
   "cell_type": "code",
   "execution_count": 9,
   "id": "c690a1cc",
   "metadata": {},
   "outputs": [
    {
     "data": {
      "text/plain": [
       "array([[11,  9, 13],\n",
       "       [ 6, 13, 14],\n",
       "       [10, 14,  9],\n",
       "       [ 7, 11,  5],\n",
       "       [11,  6, 10]])"
      ]
     },
     "execution_count": 9,
     "metadata": {},
     "output_type": "execute_result"
    }
   ],
   "source": [
    "data1 = np.random.randint(5,15,size=(5,3))\n",
    "data1"
   ]
  },
  {
   "cell_type": "code",
   "execution_count": 6,
   "id": "5f34a199",
   "metadata": {},
   "outputs": [
    {
     "data": {
      "text/plain": [
       "array([[13, 13,  7],\n",
       "       [ 5,  8, 11],\n",
       "       [10, 13,  6],\n",
       "       [10, 11, 12],\n",
       "       [11, 10,  5]])"
      ]
     },
     "execution_count": 6,
     "metadata": {},
     "output_type": "execute_result"
    }
   ],
   "source": [
    "data2 = np.random.randint(5,15,size=(5,3))\n",
    "data2"
   ]
  },
  {
   "cell_type": "code",
   "execution_count": 10,
   "id": "59b953d4",
   "metadata": {},
   "outputs": [
    {
     "data": {
      "text/plain": [
       "array([[11,  9, 13, 13, 13,  7],\n",
       "       [ 6, 13, 14,  5,  8, 11],\n",
       "       [10, 14,  9, 10, 13,  6],\n",
       "       [ 7, 11,  5, 10, 11, 12],\n",
       "       [11,  6, 10, 11, 10,  5]])"
      ]
     },
     "execution_count": 10,
     "metadata": {},
     "output_type": "execute_result"
    }
   ],
   "source": [
    "np.hstack([data1,data2])"
   ]
  },
  {
   "cell_type": "code",
   "execution_count": null,
   "id": "cc78936b",
   "metadata": {},
   "outputs": [],
   "source": []
  }
 ],
 "metadata": {
  "kernelspec": {
   "display_name": "Python 3 (ipykernel)",
   "language": "python",
   "name": "python3"
  },
  "language_info": {
   "codemirror_mode": {
    "name": "ipython",
    "version": 3
   },
   "file_extension": ".py",
   "mimetype": "text/x-python",
   "name": "python",
   "nbconvert_exporter": "python",
   "pygments_lexer": "ipython3",
   "version": "3.9.7"
  }
 },
 "nbformat": 4,
 "nbformat_minor": 5
}
